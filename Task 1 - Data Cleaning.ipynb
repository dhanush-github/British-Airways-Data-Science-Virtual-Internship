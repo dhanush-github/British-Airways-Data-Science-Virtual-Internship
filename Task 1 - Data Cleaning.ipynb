{
 "cells": [
  {
   "cell_type": "markdown",
   "id": "2a42fdfc",
   "metadata": {},
   "source": [
    "# Data Cleaning"
   ]
  },
  {
   "cell_type": "markdown",
   "id": "f3dcbe3c",
   "metadata": {},
   "source": [
    "#### Importing dependencies"
   ]
  },
  {
   "cell_type": "code",
   "execution_count": 1,
   "id": "82b72644",
   "metadata": {},
   "outputs": [],
   "source": [
    "import pandas as pd\n",
    "import matplotlib.pyplot as plt\n",
    "import seaborn as sns\n",
    "\n",
    "import re"
   ]
  },
  {
   "cell_type": "code",
   "execution_count": 2,
   "id": "59f072cd",
   "metadata": {},
   "outputs": [],
   "source": [
    "df = pd.read_csv(\"BA_reviews.csv\")\n",
    "df = df.drop(\"Unnamed: 0\",axis=1)"
   ]
  },
  {
   "cell_type": "code",
   "execution_count": 3,
   "id": "68dfec64",
   "metadata": {},
   "outputs": [
    {
     "data": {
      "text/html": [
       "<div>\n",
       "<style scoped>\n",
       "    .dataframe tbody tr th:only-of-type {\n",
       "        vertical-align: middle;\n",
       "    }\n",
       "\n",
       "    .dataframe tbody tr th {\n",
       "        vertical-align: top;\n",
       "    }\n",
       "\n",
       "    .dataframe thead th {\n",
       "        text-align: right;\n",
       "    }\n",
       "</style>\n",
       "<table border=\"1\" class=\"dataframe\">\n",
       "  <thead>\n",
       "    <tr style=\"text-align: right;\">\n",
       "      <th></th>\n",
       "      <th>reviews</th>\n",
       "      <th>date</th>\n",
       "      <th>country</th>\n",
       "      <th>ratings</th>\n",
       "    </tr>\n",
       "  </thead>\n",
       "  <tbody>\n",
       "    <tr>\n",
       "      <th>0</th>\n",
       "      <td>✅ Trip Verified |  I have come to boarding and...</td>\n",
       "      <td>28th January 2024</td>\n",
       "      <td>Ukraine</td>\n",
       "      <td>3</td>\n",
       "    </tr>\n",
       "    <tr>\n",
       "      <th>1</th>\n",
       "      <td>✅ Trip Verified | Stinking nappies being chang...</td>\n",
       "      <td>26th January 2024</td>\n",
       "      <td>United Kingdom</td>\n",
       "      <td>2</td>\n",
       "    </tr>\n",
       "    <tr>\n",
       "      <th>2</th>\n",
       "      <td>✅ Trip Verified | Worst service ever. Lost bag...</td>\n",
       "      <td>23rd January 2024</td>\n",
       "      <td>Germany</td>\n",
       "      <td>1</td>\n",
       "    </tr>\n",
       "    <tr>\n",
       "      <th>3</th>\n",
       "      <td>✅ Trip Verified |  BA 246 21JAN 2023 Did not a...</td>\n",
       "      <td>21st January 2024</td>\n",
       "      <td>United Kingdom</td>\n",
       "      <td>6</td>\n",
       "    </tr>\n",
       "    <tr>\n",
       "      <th>4</th>\n",
       "      <td>✅ Trip Verified | Not a great experience. I co...</td>\n",
       "      <td>18th January 2024</td>\n",
       "      <td>United Kingdom</td>\n",
       "      <td>3</td>\n",
       "    </tr>\n",
       "  </tbody>\n",
       "</table>\n",
       "</div>"
      ],
      "text/plain": [
       "                                             reviews               date  \\\n",
       "0  ✅ Trip Verified |  I have come to boarding and...  28th January 2024   \n",
       "1  ✅ Trip Verified | Stinking nappies being chang...  26th January 2024   \n",
       "2  ✅ Trip Verified | Worst service ever. Lost bag...  23rd January 2024   \n",
       "3  ✅ Trip Verified |  BA 246 21JAN 2023 Did not a...  21st January 2024   \n",
       "4  ✅ Trip Verified | Not a great experience. I co...  18th January 2024   \n",
       "\n",
       "          country ratings  \n",
       "0         Ukraine       3  \n",
       "1  United Kingdom       2  \n",
       "2         Germany       1  \n",
       "3  United Kingdom       6  \n",
       "4  United Kingdom       3  "
      ]
     },
     "execution_count": 3,
     "metadata": {},
     "output_type": "execute_result"
    }
   ],
   "source": [
    "df.head()"
   ]
  },
  {
   "cell_type": "code",
   "execution_count": 4,
   "id": "2e3b5fc7",
   "metadata": {},
   "outputs": [
    {
     "name": "stdout",
     "output_type": "stream",
     "text": [
      "<class 'pandas.core.frame.DataFrame'>\n",
      "RangeIndex: 3742 entries, 0 to 3741\n",
      "Data columns (total 4 columns):\n",
      " #   Column   Non-Null Count  Dtype \n",
      "---  ------   --------------  ----- \n",
      " 0   reviews  3742 non-null   object\n",
      " 1   date     3742 non-null   object\n",
      " 2   country  3740 non-null   object\n",
      " 3   ratings  3742 non-null   object\n",
      "dtypes: object(4)\n",
      "memory usage: 117.1+ KB\n"
     ]
    }
   ],
   "source": [
    "df.info()"
   ]
  },
  {
   "cell_type": "code",
   "execution_count": 5,
   "id": "596f38c8",
   "metadata": {},
   "outputs": [
    {
     "data": {
      "text/plain": [
       "reviews    0\n",
       "date       0\n",
       "country    2\n",
       "ratings    0\n",
       "dtype: int64"
      ]
     },
     "execution_count": 5,
     "metadata": {},
     "output_type": "execute_result"
    }
   ],
   "source": [
    "df.isnull().sum()"
   ]
  },
  {
   "cell_type": "markdown",
   "id": "91f4c3f0",
   "metadata": {},
   "source": [
    "#### There are 2 missing values in country column, lets drop it off"
   ]
  },
  {
   "cell_type": "code",
   "execution_count": 6,
   "id": "cdf663da",
   "metadata": {},
   "outputs": [],
   "source": [
    "df = df.dropna()"
   ]
  },
  {
   "cell_type": "code",
   "execution_count": 7,
   "id": "36355fd0",
   "metadata": {},
   "outputs": [
    {
     "data": {
      "text/plain": [
       "(3740, 4)"
      ]
     },
     "execution_count": 7,
     "metadata": {},
     "output_type": "execute_result"
    }
   ],
   "source": [
    "df.shape"
   ]
  },
  {
   "cell_type": "code",
   "execution_count": 8,
   "id": "ffdd473b",
   "metadata": {},
   "outputs": [
    {
     "data": {
      "text/plain": [
       "3731"
      ]
     },
     "execution_count": 8,
     "metadata": {},
     "output_type": "execute_result"
    }
   ],
   "source": [
    "len(df['reviews'].unique())"
   ]
  },
  {
   "cell_type": "code",
   "execution_count": 9,
   "id": "537945db",
   "metadata": {},
   "outputs": [
    {
     "data": {
      "text/plain": [
       "19th January 2015     26\n",
       "20th November 2014    18\n",
       "28th October 2014     14\n",
       "11th January 2015     12\n",
       "22nd October 2014     12\n",
       "                      ..\n",
       "28th February 2019     1\n",
       "2nd March 2019         1\n",
       "4th March 2019         1\n",
       "7th March 2019         1\n",
       "9th October 2011       1\n",
       "Name: date, Length: 1852, dtype: int64"
      ]
     },
     "execution_count": 9,
     "metadata": {},
     "output_type": "execute_result"
    }
   ],
   "source": [
    "df['date'].value_counts()"
   ]
  },
  {
   "cell_type": "markdown",
   "id": "5ff01dc3",
   "metadata": {},
   "source": [
    "#### Date column is object datatype, we need to change it to datetime format"
   ]
  },
  {
   "cell_type": "code",
   "execution_count": 10,
   "id": "b862e856",
   "metadata": {},
   "outputs": [],
   "source": [
    "df['date'] = pd.to_datetime(df['date'])"
   ]
  },
  {
   "cell_type": "code",
   "execution_count": 11,
   "id": "15953b05",
   "metadata": {},
   "outputs": [
    {
     "name": "stdout",
     "output_type": "stream",
     "text": [
      "<class 'pandas.core.frame.DataFrame'>\n",
      "Int64Index: 3740 entries, 0 to 3741\n",
      "Data columns (total 4 columns):\n",
      " #   Column   Non-Null Count  Dtype         \n",
      "---  ------   --------------  -----         \n",
      " 0   reviews  3740 non-null   object        \n",
      " 1   date     3740 non-null   datetime64[ns]\n",
      " 2   country  3740 non-null   object        \n",
      " 3   ratings  3740 non-null   object        \n",
      "dtypes: datetime64[ns](1), object(3)\n",
      "memory usage: 146.1+ KB\n"
     ]
    }
   ],
   "source": [
    "df.info()"
   ]
  },
  {
   "cell_type": "code",
   "execution_count": 12,
   "id": "ad848143",
   "metadata": {},
   "outputs": [
    {
     "name": "stdout",
     "output_type": "stream",
     "text": [
      "2024-01-28 00:00:00\n",
      "2011-10-09 00:00:00\n"
     ]
    }
   ],
   "source": [
    "print(df['date'].max())\n",
    "print(df['date'].min())"
   ]
  },
  {
   "cell_type": "code",
   "execution_count": 13,
   "id": "be9f3f3f",
   "metadata": {},
   "outputs": [
    {
     "data": {
      "text/plain": [
       "1                                875\n",
       "2                                427\n",
       "3                                409\n",
       "8                                367\n",
       "10                               325\n",
       "9                                311\n",
       "7                                309\n",
       "4                                250\n",
       "5                                232\n",
       "6                                193\n",
       "\\n\\t\\t\\t\\t\\t\\t\\t\\t\\t\\t\\t\\t\\t5     37\n",
       "None                               5\n",
       "Name: ratings, dtype: int64"
      ]
     },
     "execution_count": 13,
     "metadata": {},
     "output_type": "execute_result"
    }
   ],
   "source": [
    "df['ratings'].value_counts()"
   ]
  },
  {
   "cell_type": "markdown",
   "id": "09f29ef3",
   "metadata": {},
   "source": [
    "#### removing '\\n' & '\\t' "
   ]
  },
  {
   "cell_type": "code",
   "execution_count": 14,
   "id": "99ddce58",
   "metadata": {},
   "outputs": [],
   "source": [
    "df['ratings'] = df['ratings'].str.strip('\\n\\t\\t\\t\\t\\t\\t\\t\\t\\t\\t\\t\\t\\t')m"
   ]
  },
  {
   "cell_type": "code",
   "execution_count": 15,
   "id": "3709b8b2",
   "metadata": {},
   "outputs": [
    {
     "data": {
      "text/plain": [
       "1       875\n",
       "2       427\n",
       "3       409\n",
       "8       367\n",
       "10      325\n",
       "9       311\n",
       "7       309\n",
       "5       269\n",
       "4       250\n",
       "6       193\n",
       "None      5\n",
       "Name: ratings, dtype: int64"
      ]
     },
     "execution_count": 15,
     "metadata": {},
     "output_type": "execute_result"
    }
   ],
   "source": [
    "df['ratings'].value_counts()"
   ]
  },
  {
   "cell_type": "markdown",
   "id": "18cf7f37",
   "metadata": {},
   "source": [
    "#### removing \"None\" values in ratings column"
   ]
  },
  {
   "cell_type": "code",
   "execution_count": 19,
   "id": "6b02690f",
   "metadata": {},
   "outputs": [],
   "source": [
    "df.drop(df[df['ratings'] == \"None\"].index, axis=0, inplace=True)"
   ]
  },
  {
   "cell_type": "code",
   "execution_count": 22,
   "id": "c9466d20",
   "metadata": {},
   "outputs": [
    {
     "data": {
      "text/plain": [
       "(3735, 4)"
      ]
     },
     "execution_count": 22,
     "metadata": {},
     "output_type": "execute_result"
    }
   ],
   "source": [
    "df.shape"
   ]
  },
  {
   "cell_type": "code",
   "execution_count": 23,
   "id": "2ab4dd8b",
   "metadata": {},
   "outputs": [
    {
     "data": {
      "text/plain": [
       "United Kingdom           2352\n",
       "United States             417\n",
       "Australia                 159\n",
       "Canada                    116\n",
       "Germany                    66\n",
       "                         ... \n",
       "Costa Rica                  1\n",
       "Cayman Islands              1\n",
       "Panama                      1\n",
       "Saint Kitts and Nevis       1\n",
       "Oman                        1\n",
       "Name: country, Length: 72, dtype: int64"
      ]
     },
     "execution_count": 23,
     "metadata": {},
     "output_type": "execute_result"
    }
   ],
   "source": [
    "df['country'].value_counts()"
   ]
  },
  {
   "cell_type": "markdown",
   "id": "608f1811",
   "metadata": {},
   "source": []
  },
  {
   "cell_type": "markdown",
   "id": "01c55240",
   "metadata": {},
   "source": [
    "### Cleaning reviews for further Analysis"
   ]
  },
  {
   "cell_type": "code",
   "execution_count": 26,
   "id": "946f2004",
   "metadata": {},
   "outputs": [],
   "source": [
    "#utilizing NLTK library for text pre-processing\n",
    "from nltk.stem import WordNetLemmatizer\n",
    "from nltk.corpus import stopwords\n",
    "\n",
    "#creating a lemma instance\n",
    "lemma = WordNetLemmatizer()\n",
    "\n",
    "reviews_data = df['reviews'].str.strip(\"✅ Trip Verified |\")\n",
    "\n",
    "#creating an empty list to store cleaned reviews \n",
    "corpus = []\n",
    "\n",
    "#Looping through each review --> remove puntuactions, lower case and join those, so that we can append to corpus at end\n",
    "for i in reviews_data:\n",
    "    i = re.sub('[^a-zA-Z]',' ',i)\n",
    "    i = i.lower()\n",
    "    i = i.split()\n",
    "    i = [lemma.lemmatize(word) for word in i if word not in set(stopwords.words(\"english\"))]\n",
    "    i = \" \".join(i)\n",
    "    corpus.append(i)"
   ]
  },
  {
   "cell_type": "code",
   "execution_count": 27,
   "id": "c2b4c763",
   "metadata": {},
   "outputs": [],
   "source": [
    "df['corpus'] = corpus"
   ]
  },
  {
   "cell_type": "code",
   "execution_count": 28,
   "id": "686122be",
   "metadata": {},
   "outputs": [
    {
     "data": {
      "text/html": [
       "<div>\n",
       "<style scoped>\n",
       "    .dataframe tbody tr th:only-of-type {\n",
       "        vertical-align: middle;\n",
       "    }\n",
       "\n",
       "    .dataframe tbody tr th {\n",
       "        vertical-align: top;\n",
       "    }\n",
       "\n",
       "    .dataframe thead th {\n",
       "        text-align: right;\n",
       "    }\n",
       "</style>\n",
       "<table border=\"1\" class=\"dataframe\">\n",
       "  <thead>\n",
       "    <tr style=\"text-align: right;\">\n",
       "      <th></th>\n",
       "      <th>reviews</th>\n",
       "      <th>date</th>\n",
       "      <th>country</th>\n",
       "      <th>ratings</th>\n",
       "      <th>corpus</th>\n",
       "    </tr>\n",
       "  </thead>\n",
       "  <tbody>\n",
       "    <tr>\n",
       "      <th>0</th>\n",
       "      <td>✅ Trip Verified |  I have come to boarding and...</td>\n",
       "      <td>2024-01-28</td>\n",
       "      <td>Ukraine</td>\n",
       "      <td>3</td>\n",
       "      <td>come boarding cabin luggage taken plane full a...</td>\n",
       "    </tr>\n",
       "    <tr>\n",
       "      <th>1</th>\n",
       "      <td>✅ Trip Verified | Stinking nappies being chang...</td>\n",
       "      <td>2024-01-26</td>\n",
       "      <td>United Kingdom</td>\n",
       "      <td>2</td>\n",
       "      <td>stinking nappy changed business cabin througho...</td>\n",
       "    </tr>\n",
       "    <tr>\n",
       "      <th>2</th>\n",
       "      <td>✅ Trip Verified | Worst service ever. Lost bag...</td>\n",
       "      <td>2024-01-23</td>\n",
       "      <td>Germany</td>\n",
       "      <td>1</td>\n",
       "      <td>worst service ever lost baggage delayed flight...</td>\n",
       "    </tr>\n",
       "    <tr>\n",
       "      <th>3</th>\n",
       "      <td>✅ Trip Verified |  BA 246 21JAN 2023 Did not a...</td>\n",
       "      <td>2024-01-21</td>\n",
       "      <td>United Kingdom</td>\n",
       "      <td>6</td>\n",
       "      <td>ba jan appreciate unprofessional attitude pilo...</td>\n",
       "    </tr>\n",
       "    <tr>\n",
       "      <th>4</th>\n",
       "      <td>✅ Trip Verified | Not a great experience. I co...</td>\n",
       "      <td>2024-01-18</td>\n",
       "      <td>United Kingdom</td>\n",
       "      <td>3</td>\n",
       "      <td>great experience could check online two separa...</td>\n",
       "    </tr>\n",
       "    <tr>\n",
       "      <th>...</th>\n",
       "      <td>...</td>\n",
       "      <td>...</td>\n",
       "      <td>...</td>\n",
       "      <td>...</td>\n",
       "      <td>...</td>\n",
       "    </tr>\n",
       "    <tr>\n",
       "      <th>3737</th>\n",
       "      <td>Flew LHR - VIE return operated by bmi but BA a...</td>\n",
       "      <td>2012-08-29</td>\n",
       "      <td>United Kingdom</td>\n",
       "      <td>8</td>\n",
       "      <td>flew lhr vie return operated bmi ba aircraft a...</td>\n",
       "    </tr>\n",
       "    <tr>\n",
       "      <th>3738</th>\n",
       "      <td>LHR to HAM. Purser addresses all club passenge...</td>\n",
       "      <td>2012-08-28</td>\n",
       "      <td>United Kingdom</td>\n",
       "      <td>2</td>\n",
       "      <td>lhr ham purser address club passenger name boa...</td>\n",
       "    </tr>\n",
       "    <tr>\n",
       "      <th>3739</th>\n",
       "      <td>My son who had worked for British Airways urge...</td>\n",
       "      <td>2011-10-12</td>\n",
       "      <td>United Kingdom</td>\n",
       "      <td>7</td>\n",
       "      <td>son worked british airway urged fly british ai...</td>\n",
       "    </tr>\n",
       "    <tr>\n",
       "      <th>3740</th>\n",
       "      <td>London City-New York JFK via Shannon on A318 b...</td>\n",
       "      <td>2011-10-11</td>\n",
       "      <td>United States</td>\n",
       "      <td>1</td>\n",
       "      <td>london city new york jfk via shannon really ni...</td>\n",
       "    </tr>\n",
       "    <tr>\n",
       "      <th>3741</th>\n",
       "      <td>SIN-LHR BA12 B747-436 First Class. Old aircraf...</td>\n",
       "      <td>2011-10-09</td>\n",
       "      <td>United Kingdom</td>\n",
       "      <td>9</td>\n",
       "      <td>sin lhr ba b first class old aircraft seat pri...</td>\n",
       "    </tr>\n",
       "  </tbody>\n",
       "</table>\n",
       "<p>3735 rows × 5 columns</p>\n",
       "</div>"
      ],
      "text/plain": [
       "                                                reviews       date  \\\n",
       "0     ✅ Trip Verified |  I have come to boarding and... 2024-01-28   \n",
       "1     ✅ Trip Verified | Stinking nappies being chang... 2024-01-26   \n",
       "2     ✅ Trip Verified | Worst service ever. Lost bag... 2024-01-23   \n",
       "3     ✅ Trip Verified |  BA 246 21JAN 2023 Did not a... 2024-01-21   \n",
       "4     ✅ Trip Verified | Not a great experience. I co... 2024-01-18   \n",
       "...                                                 ...        ...   \n",
       "3737  Flew LHR - VIE return operated by bmi but BA a... 2012-08-29   \n",
       "3738  LHR to HAM. Purser addresses all club passenge... 2012-08-28   \n",
       "3739  My son who had worked for British Airways urge... 2011-10-12   \n",
       "3740  London City-New York JFK via Shannon on A318 b... 2011-10-11   \n",
       "3741  SIN-LHR BA12 B747-436 First Class. Old aircraf... 2011-10-09   \n",
       "\n",
       "             country ratings  \\\n",
       "0            Ukraine       3   \n",
       "1     United Kingdom       2   \n",
       "2            Germany       1   \n",
       "3     United Kingdom       6   \n",
       "4     United Kingdom       3   \n",
       "...              ...     ...   \n",
       "3737  United Kingdom       8   \n",
       "3738  United Kingdom       2   \n",
       "3739  United Kingdom       7   \n",
       "3740   United States       1   \n",
       "3741  United Kingdom       9   \n",
       "\n",
       "                                                 corpus  \n",
       "0     come boarding cabin luggage taken plane full a...  \n",
       "1     stinking nappy changed business cabin througho...  \n",
       "2     worst service ever lost baggage delayed flight...  \n",
       "3     ba jan appreciate unprofessional attitude pilo...  \n",
       "4     great experience could check online two separa...  \n",
       "...                                                 ...  \n",
       "3737  flew lhr vie return operated bmi ba aircraft a...  \n",
       "3738  lhr ham purser address club passenger name boa...  \n",
       "3739  son worked british airway urged fly british ai...  \n",
       "3740  london city new york jfk via shannon really ni...  \n",
       "3741  sin lhr ba b first class old aircraft seat pri...  \n",
       "\n",
       "[3735 rows x 5 columns]"
      ]
     },
     "execution_count": 28,
     "metadata": {},
     "output_type": "execute_result"
    }
   ],
   "source": [
    "df"
   ]
  },
  {
   "cell_type": "code",
   "execution_count": 30,
   "id": "f4d76152",
   "metadata": {},
   "outputs": [
    {
     "data": {
      "text/plain": [
       "reviews    0\n",
       "date       0\n",
       "country    0\n",
       "ratings    0\n",
       "corpus     0\n",
       "dtype: int64"
      ]
     },
     "execution_count": 30,
     "metadata": {},
     "output_type": "execute_result"
    }
   ],
   "source": [
    "df.isnull().sum()"
   ]
  },
  {
   "cell_type": "code",
   "execution_count": 31,
   "id": "39c9eaf2",
   "metadata": {},
   "outputs": [],
   "source": [
    "df.to_csv(\"Cleaned_BA_reviews.csv\")"
   ]
  },
  {
   "cell_type": "code",
   "execution_count": null,
   "id": "60e482c7",
   "metadata": {},
   "outputs": [],
   "source": []
  }
 ],
 "metadata": {
  "kernelspec": {
   "display_name": "Python 3 (ipykernel)",
   "language": "python",
   "name": "python3"
  },
  "language_info": {
   "codemirror_mode": {
    "name": "ipython",
    "version": 3
   },
   "file_extension": ".py",
   "mimetype": "text/x-python",
   "name": "python",
   "nbconvert_exporter": "python",
   "pygments_lexer": "ipython3",
   "version": "3.9.12"
  }
 },
 "nbformat": 4,
 "nbformat_minor": 5
}
